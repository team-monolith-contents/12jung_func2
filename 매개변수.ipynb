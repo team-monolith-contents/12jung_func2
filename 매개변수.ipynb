{
 "cells": [
  {
   "cell_type": "markdown",
   "id": "c96a1c39-0400-4fd9-a230-f02f7df24ff5",
   "metadata": {
    "deletable": false,
    "editable": false
   },
   "source": [
    "## **매개변수(parameter)**\n",
    "\n",
    "`for i in range(10):` 이라는 명령어를 떠올려봅시다.\n",
    "\n",
    "`range(10)`은 0부터 9까지 숫자 10개를 생성하는 명령어였습니다.  \n",
    "이를 이용해서 `for`문이 10번 반복되는 원리지요.  \n",
    "\n",
    "`range()`의 괄호 안에는 숫자가 들어가야 작동합니다.  \n",
    "아무것도 들어가지 않는다면 오류가 발생합니다.  \n",
    "> 두 코드를 비교해서 작동해보세요. `a = range(10)`, `a = range()`\n",
    "\n",
    "해서 `print()`나 `input()`은 괄호 안이 비어있다면, 빈 값이 출력이 됩니다.\n",
    "\n",
    "이때 괄호안에 들어가는 값을 `매개변수`라고 부릅니다.   \n",
    "매개변수는 `range()`와 `print()`의 사례에서 보듯이 꼭 필요할 수도 있고 그렇지 않을 수도 있습니다.\n",
    "\n",
    "다음 코드를 실행해봅시다."
   ]
  },
  {
   "cell_type": "markdown",
   "id": "03709d9b-12aa-4938-a776-d948e4b408cc",
   "metadata": {
    "deletable": false,
    "editable": false
   },
   "source": [
    "#### **예제 2 : 매개변수**"
   ]
  },
  {
   "cell_type": "code",
   "execution_count": null,
   "id": "e56d54a0-a61b-43fb-ad6e-4aeb28607014",
   "metadata": {
    "codle/previous_execution": {
     "code": "#예제 5-3: 매개변수 기초\n\ndef greet(n):\n    for i in range(n):\n        print(\"안녕\")\n\ndef add(first, second):\n    first = first + second\n    print(second)\n\ngreet(10)\nadd(2, 3)",
     "id": "5532685"
    }
   },
   "outputs": [],
   "source": [
    "# 예제 2 : 매개변수\n",
    "\n",
    "def greet(n):\n",
    "    for i in range(n):\n",
    "        print(\"안녕\")\n",
    "\n",
    "def add(first, second):\n",
    "    first = first + second\n",
    "    print(second)\n",
    "\n",
    "greet(10)\n",
    "add(2, 3)"
   ]
  },
  {
   "cell_type": "markdown",
   "id": "f7995ea5-9339-4cac-8539-bf78d5085fe2",
   "metadata": {
    "deletable": false,
    "editable": false
   },
   "source": [
    "#### 예제 2 해설\n",
    "\n",
    "> 함수에 넣은 숫자가 함수 작동에 영향을 주고 있습니다.\n",
    "> \n",
    "> `greet(n)`은 `n`에 넣은 숫자만큼 안녕을 반복해서 출력하며\n",
    "> `add(n, m)`은 두 값을 더한 숫자가 출력됩니다.\n",
    ">"
   ]
  },
  {
   "cell_type": "markdown",
   "id": "a497b70c-5fcf-4951-9dd6-9443b1fe3d8c",
   "metadata": {
    "deletable": false,
    "editable": false
   },
   "source": [
    "#### **미션: 길이 변환기**\n",
    "<a class=\"jcecodle-mk jcecodle-mk__problem-chip\" data-problem-id=\"yt7ZneE239M\" href='#jce-judge/open/yt7ZneE239M' target='_self'><span>미션 : 길이 변환기</span></a>\n",
    "*  인치(inch)와 센티미터(cm)를 변환하는 conver함수의 구조를 파악하세요.\n",
    "*  1inch는 2.54cm입니다. 바르게 변환될 수 있도록 수를 넣으세요.\n",
    "*  만든 함수를 실행하세요.\n"
   ]
  }
 ],
 "metadata": {
  "kernelspec": {
   "display_name": "Python 3 (ipykernel)",
   "language": "python",
   "name": "python3"
  },
  "language_info": {
   "codemirror_mode": {
    "name": "ipython",
    "version": 3
   },
   "file_extension": ".py",
   "mimetype": "text/x-python",
   "name": "python",
   "nbconvert_exporter": "python",
   "pygments_lexer": "ipython3",
   "version": "3.10.13"
  },
  "read_only": true
 },
 "nbformat": 4,
 "nbformat_minor": 5
}
